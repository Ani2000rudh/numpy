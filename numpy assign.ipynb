{
  "metadata": {
    "language_info": {
      "codemirror_mode": {
        "name": "python",
        "version": 3
      },
      "file_extension": ".py",
      "mimetype": "text/x-python",
      "name": "python",
      "nbconvert_exporter": "python",
      "pygments_lexer": "ipython3",
      "version": "3.8"
    },
    "kernelspec": {
      "name": "python",
      "display_name": "Python (Pyodide)",
      "language": "python"
    }
  },
  "nbformat_minor": 4,
  "nbformat": 4,
  "cells": [
    {
      "cell_type": "code",
      "source": "import numpy as np\nlist_ = [ '1' , '2' , '3' , '4' , '5' ]\narray_list = np.array(object = list_)",
      "metadata": {
        "trusted": true
      },
      "execution_count": 4,
      "outputs": []
    },
    {
      "cell_type": "code",
      "source": "'''Q1. Is there any difference in the data type of variables list_ and array_list? If there is then write a code\nto print the data types of both the variables.'''\n\n\n''' data types are same NO difference'''\nprint(type(list_))\nprint(type(list_[3]))\nprint(array_list.dtype)\na=array_list[3]\nprint(type(a))",
      "metadata": {
        "trusted": true
      },
      "execution_count": 15,
      "outputs": [
        {
          "name": "stdout",
          "text": "<class 'list'>\n<class 'str'>\n<U1\n<class 'numpy.str_'>\n",
          "output_type": "stream"
        }
      ]
    },
    {
      "cell_type": "code",
      "source": "'''Q2. Write a code to print the data type of each and every element of both the variables list_ and\narra_list.'''\n\nfor i in list_:\n    print(type(i))\n    \n    \nprint(\"_____________________________________________________________________________\")\n\nfor i in array_list:\n    print(type(i))",
      "metadata": {
        "trusted": true
      },
      "execution_count": 19,
      "outputs": [
        {
          "name": "stdout",
          "text": "<class 'str'>\n<class 'str'>\n<class 'str'>\n<class 'str'>\n<class 'str'>\n_____________________________________________________________________________\n<class 'numpy.str_'>\n<class 'numpy.str_'>\n<class 'numpy.str_'>\n<class 'numpy.str_'>\n<class 'numpy.str_'>\n",
          "output_type": "stream"
        }
      ]
    },
    {
      "cell_type": "code",
      "source": "'''Q3. Considering the following changes in the variable, array_list:\narray_list = np.array(object = list_, dtype = int)\nWill there be any difference in the data type of the elements present in both the variables, list_ and\narra_list? If so then print the data types of each and every element present in both the variables, list_\nand arra_list.'''\n\narray_list1 = np.array(object = list_, dtype = int)\n\narray_list1.dtype\nfor i in array_list1:\n    print(i.dtype)\n\nprint(\" arrary list got converted to int & list is still str\")\n\nfor i in list_:\n    print(type(i))\n\n",
      "metadata": {
        "trusted": true
      },
      "execution_count": 25,
      "outputs": [
        {
          "name": "stdout",
          "text": "int32\nint32\nint32\nint32\nint32\n arrary list got converted to int & list is still str\n<class 'str'>\n<class 'str'>\n<class 'str'>\n<class 'str'>\n<class 'str'>\n",
          "output_type": "stream"
        }
      ]
    },
    {
      "cell_type": "code",
      "source": "import numpy as np\nnum_list = [ [ 1 , 2 , 3 ] , [ 4 , 5 , 6 ] ]\nnum_array = np.array(object = num_list)",
      "metadata": {
        "trusted": true
      },
      "execution_count": 26,
      "outputs": []
    },
    {
      "cell_type": "code",
      "source": "'''Q4. Write a code to find the following characteristics of variable, num_array:'''\n'''(i) shape:gives the dimension of matrix'''\nnum_array\nprint(num_array.shape)\n\n#(ii) size: gives of elements in matrix\n\nprint(num_array.size)",
      "metadata": {
        "trusted": true
      },
      "execution_count": 30,
      "outputs": [
        {
          "name": "stdout",
          "text": "(2, 3)\n6\n",
          "output_type": "stream"
        }
      ]
    },
    {
      "cell_type": "code",
      "source": "\"\"\"Q5. Write a code to create numpy array of 3*3 matrix containing zeros only, using a numpy array\ncreation function.\"\"\"\n\na=np.zeros((3,3))",
      "metadata": {
        "trusted": true
      },
      "execution_count": 31,
      "outputs": []
    },
    {
      "cell_type": "code",
      "source": "a",
      "metadata": {
        "trusted": true
      },
      "execution_count": 32,
      "outputs": [
        {
          "execution_count": 32,
          "output_type": "execute_result",
          "data": {
            "text/plain": "array([[0., 0., 0.],\n       [0., 0., 0.],\n       [0., 0., 0.]])"
          },
          "metadata": {}
        }
      ]
    },
    {
      "cell_type": "code",
      "source": "#Q6. Create an identity matrix of shape (5,5) using numpy functions?\n\nb=np.ones((5,5))\nb",
      "metadata": {
        "trusted": true
      },
      "execution_count": 33,
      "outputs": [
        {
          "execution_count": 33,
          "output_type": "execute_result",
          "data": {
            "text/plain": "array([[1., 1., 1., 1., 1.],\n       [1., 1., 1., 1., 1.],\n       [1., 1., 1., 1., 1.],\n       [1., 1., 1., 1., 1.],\n       [1., 1., 1., 1., 1.]])"
          },
          "metadata": {}
        }
      ]
    },
    {
      "cell_type": "code",
      "source": "",
      "metadata": {},
      "execution_count": null,
      "outputs": []
    }
  ]
}